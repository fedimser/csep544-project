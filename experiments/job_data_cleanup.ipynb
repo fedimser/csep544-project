{
 "cells": [
  {
   "cell_type": "code",
   "execution_count": 4,
   "id": "df0c3575-c009-4a37-9eec-de1a9c200612",
   "metadata": {},
   "outputs": [],
   "source": [
    "import pandas as pd\n",
    "\n",
    "TABLE_NAMES = [\"aka_name\",\"aka_title\",\"cast_info\",\n",
    " \"char_name\",\"comp_cast_type\",\"company_name\",\n",
    " \"company_type\",\"complete_cast\",\"info_type\",\n",
    " \"keyword\",\"kind_type\",\"link_type\",\n",
    " \"movie_companies\",\"movie_info\",\"movie_info_idx\",\n",
    " \"movie_keyword\",\"movie_link\",\"name\",\n",
    " \"person_info\",\"role_type\",\"title\"\n",
    "]"
   ]
  },
  {
   "cell_type": "code",
   "execution_count": 6,
   "id": "17aac994-7316-4751-a849-fab80a773a0a",
   "metadata": {},
   "outputs": [
    {
     "name": "stdout",
     "output_type": "stream",
     "text": [
      "OK aka_name\n",
      "OK aka_title\n",
      "OK cast_info\n",
      "OK char_name\n",
      "OK comp_cast_type\n",
      "OK company_name\n",
      "OK company_type\n",
      "OK complete_cast\n",
      "OK info_type\n",
      "OK keyword\n",
      "OK kind_type\n",
      "OK link_type\n",
      "OK movie_companies\n",
      "OK movie_info\n",
      "OK movie_info_idx\n",
      "OK movie_keyword\n",
      "OK movie_link\n",
      "OK name\n",
      "OK person_info\n",
      "OK role_type\n",
      "OK title\n"
     ]
    }
   ],
   "source": [
    "import os\n",
    "\n",
    "for tn in TABLE_NAMES:\n",
    "    #if os.path.exists(f\"data/imdb/{tn}_fixed.csv\"):\n",
    "    #    continue\n",
    "    df = pd.read_csv(f\"data/imdb/{tn}.csv\", escapechar='\\\\', header=None, low_memory=False, keep_default_na=False)\n",
    "    if tn ==\"title\":\n",
    "        # There is a single entry with non-integer imdb_id\n",
    "        df = df.drop(index=2514451-1)\n",
    "    df.to_csv(f\"data/imdb/{tn}_fixed.csv\", index=False,header=None)\n",
    "    print(f\"OK {tn}\")"
   ]
  }
 ],
 "metadata": {
  "kernelspec": {
   "display_name": "Python 3 (ipykernel)",
   "language": "python",
   "name": "python3"
  },
  "language_info": {
   "codemirror_mode": {
    "name": "ipython",
    "version": 3
   },
   "file_extension": ".py",
   "mimetype": "text/x-python",
   "name": "python",
   "nbconvert_exporter": "python",
   "pygments_lexer": "ipython3",
   "version": "3.12.3"
  }
 },
 "nbformat": 4,
 "nbformat_minor": 5
}
