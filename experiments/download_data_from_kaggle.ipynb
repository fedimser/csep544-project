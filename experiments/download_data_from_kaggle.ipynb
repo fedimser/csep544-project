{
 "cells": [
  {
   "cell_type": "markdown",
   "id": "5da3be36-a05e-4390-b945-234afc849341",
   "metadata": {},
   "source": [
    "Auxillary notebook to downbload datasets from Kaggle."
   ]
  },
  {
   "cell_type": "code",
   "execution_count": 3,
   "id": "a4cd85dd",
   "metadata": {},
   "outputs": [],
   "source": [
    "import kagglehub\n",
    "import os\n",
    "import pandas as pd\n"
   ]
  },
  {
   "cell_type": "code",
   "execution_count": 4,
   "id": "b9ed1ef9-1a66-4c13-8049-fbe2deedd4b8",
   "metadata": {},
   "outputs": [
    {
     "name": "stdout",
     "output_type": "stream",
     "text": [
      "Path to dataset files: /home/fedimser/.cache/kagglehub/datasets/davidalexander01/tpc-h-dataset/versions/1\n"
     ]
    },
    {
     "data": {
      "text/html": [
       "<div>\n",
       "<style scoped>\n",
       "    .dataframe tbody tr th:only-of-type {\n",
       "        vertical-align: middle;\n",
       "    }\n",
       "\n",
       "    .dataframe tbody tr th {\n",
       "        vertical-align: top;\n",
       "    }\n",
       "\n",
       "    .dataframe thead th {\n",
       "        text-align: right;\n",
       "    }\n",
       "</style>\n",
       "<table border=\"1\" class=\"dataframe\">\n",
       "  <thead>\n",
       "    <tr style=\"text-align: right;\">\n",
       "      <th></th>\n",
       "      <th>0</th>\n",
       "      <th>1</th>\n",
       "      <th>2</th>\n",
       "      <th>3</th>\n",
       "    </tr>\n",
       "  </thead>\n",
       "  <tbody>\n",
       "    <tr>\n",
       "      <th>0</th>\n",
       "      <td>0</td>\n",
       "      <td>ALGERIA</td>\n",
       "      <td>0</td>\n",
       "      <td>haggle. carefully final deposits detect slyly...</td>\n",
       "    </tr>\n",
       "    <tr>\n",
       "      <th>1</th>\n",
       "      <td>1</td>\n",
       "      <td>ARGENTINA</td>\n",
       "      <td>1</td>\n",
       "      <td>al foxes promise slyly according to the regula...</td>\n",
       "    </tr>\n",
       "    <tr>\n",
       "      <th>2</th>\n",
       "      <td>2</td>\n",
       "      <td>BRAZIL</td>\n",
       "      <td>1</td>\n",
       "      <td>y alongside of the pending deposits. carefully...</td>\n",
       "    </tr>\n",
       "    <tr>\n",
       "      <th>3</th>\n",
       "      <td>3</td>\n",
       "      <td>CANADA</td>\n",
       "      <td>1</td>\n",
       "      <td>eas hang ironic, silent packages. slyly regula...</td>\n",
       "    </tr>\n",
       "    <tr>\n",
       "      <th>4</th>\n",
       "      <td>4</td>\n",
       "      <td>EGYPT</td>\n",
       "      <td>4</td>\n",
       "      <td>y above the carefully unusual theodolites. fin...</td>\n",
       "    </tr>\n",
       "  </tbody>\n",
       "</table>\n",
       "</div>"
      ],
      "text/plain": [
       "   0          1  2                                                  3\n",
       "0  0    ALGERIA  0   haggle. carefully final deposits detect slyly...\n",
       "1  1  ARGENTINA  1  al foxes promise slyly according to the regula...\n",
       "2  2     BRAZIL  1  y alongside of the pending deposits. carefully...\n",
       "3  3     CANADA  1  eas hang ironic, silent packages. slyly regula...\n",
       "4  4      EGYPT  4  y above the carefully unusual theodolites. fin..."
      ]
     },
     "execution_count": 4,
     "metadata": {},
     "output_type": "execute_result"
    }
   ],
   "source": [
    "path = kagglehub.dataset_download(\"davidalexander01/tpc-h-dataset\")\n",
    "print(\"Path to dataset files:\", path)\n",
    "\n",
    "path1 = os.path.join(path, 'nation.tbl')\n",
    "df = pd.read_csv(path1, delimiter='|', header=None)\n",
    "df.head()"
   ]
  },
  {
   "cell_type": "code",
   "execution_count": 5,
   "id": "50402177-11dc-4480-9837-cec8fecba0a5",
   "metadata": {},
   "outputs": [
    {
     "name": "stdout",
     "output_type": "stream",
     "text": [
      "Downloading from https://www.kaggle.com/api/v1/datasets/download/ranakrc/smart-building-system?dataset_version_number=1...\n"
     ]
    },
    {
     "name": "stderr",
     "output_type": "stream",
     "text": [
      "100%|███████████████████████████████████████████████████████████████████████████████████| 74.7M/74.7M [00:03<00:00, 25.2MB/s]"
     ]
    },
    {
     "name": "stdout",
     "output_type": "stream",
     "text": [
      "Extracting files...\n"
     ]
    },
    {
     "name": "stderr",
     "output_type": "stream",
     "text": [
      "\n"
     ]
    },
    {
     "name": "stdout",
     "output_type": "stream",
     "text": [
      "Path to dataset files: /home/fedimser/.cache/kagglehub/datasets/ranakrc/smart-building-system/versions/1\n"
     ]
    }
   ],
   "source": [
    "path = kagglehub.dataset_download(\"ranakrc/smart-building-system\")\n",
    "print(\"Path to dataset files:\", path)"
   ]
  },
  {
   "cell_type": "code",
   "execution_count": null,
   "id": "c25338b6",
   "metadata": {},
   "outputs": [],
   "source": []
  }
 ],
 "metadata": {
  "kernelspec": {
   "display_name": "Python 3 (ipykernel)",
   "language": "python",
   "name": "python3"
  },
  "language_info": {
   "codemirror_mode": {
    "name": "ipython",
    "version": 3
   },
   "file_extension": ".py",
   "mimetype": "text/x-python",
   "name": "python",
   "nbconvert_exporter": "python",
   "pygments_lexer": "ipython3",
   "version": "3.12.3"
  }
 },
 "nbformat": 4,
 "nbformat_minor": 5
}
